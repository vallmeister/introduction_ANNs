{
 "cells": [
  {
   "cell_type": "markdown",
   "id": "aad5d782-feee-4a00-b34a-ea044a17f4ef",
   "metadata": {},
   "source": [
    "# Learnning rule of perceptrons\n",
    "We use a single perceptron to learn a simple function"
   ]
  },
  {
   "cell_type": "code",
   "execution_count": 6,
   "id": "ee4db29a-316c-42b4-94e7-2547ba34e064",
   "metadata": {},
   "outputs": [],
   "source": [
    "import math\n",
    "import numpy as np"
   ]
  },
  {
   "cell_type": "code",
   "execution_count": 7,
   "id": "387bdbd3-66c4-4ef2-9454-72c067f0e8a8",
   "metadata": {},
   "outputs": [],
   "source": [
    "def sigmoid(x):\n",
    "    return 1 / (1 + math.exp(-x))"
   ]
  },
  {
   "cell_type": "code",
   "execution_count": 4,
   "id": "c0ccfcbd-b3d9-4610-8cd8-1c2c295c5691",
   "metadata": {},
   "outputs": [],
   "source": [
    "data = np.array([(-1, 0), (0, 1), (1, 0), (2, 0)])\n",
    "w0 = -1\n",
    "b0 = 3"
   ]
  },
  {
   "cell_type": "code",
   "execution_count": 9,
   "id": "89b41122-c81a-4931-9eee-d9b80e6855be",
   "metadata": {},
   "outputs": [],
   "source": [
    "def gradient_weight(weight, bias):\n",
    "    error = 0\n",
    "    for d in data:\n",
    "        sig = sigmoid(weight * d[0] + bias)\n",
    "        error += (d[1] - sig) * sig * (1 - sig) * d[0]\n",
    "    return -error\n",
    "\n",
    "def gradient_bias(weight, bias):\n",
    "    error = 0\n",
    "    for d in data:\n",
    "        sig = sigmoid(weight * d[0] + bias)\n",
    "        error += (d[1] - sig) * sig * (1 - sig)\n",
    "    return -error"
   ]
  },
  {
   "cell_type": "markdown",
   "id": "421b3c83-0cdf-4062-bd73-38255e8a6772",
   "metadata": {},
   "source": [
    "## Calculate gradient in starting position (-1, 3)"
   ]
  },
  {
   "cell_type": "code",
   "execution_count": 12,
   "id": "ed8816f5-9389-4f24-ad46-0efa3ded73c6",
   "metadata": {},
   "outputs": [
    {
     "name": "stdout",
     "output_type": "stream",
     "text": [
      "0.36260270307342\n",
      "0.2514153622229008\n"
     ]
    }
   ],
   "source": [
    "grad_w0 = gradient_weight(w0, b0)\n",
    "grad_b0 = gradient_bias(w0, b0)\n",
    "\n",
    "print(grad_w0)\n",
    "print(grad_b0)"
   ]
  },
  {
   "cell_type": "markdown",
   "id": "a9bd011a-df61-4a11-bfc2-68cece14d44d",
   "metadata": {},
   "source": [
    "# Do one iteration of learning rule"
   ]
  },
  {
   "cell_type": "code",
   "execution_count": 13,
   "id": "a9d9c59c-c56e-4ed3-9cde-8d8d2366810a",
   "metadata": {},
   "outputs": [
    {
     "name": "stdout",
     "output_type": "stream",
     "text": [
      "-1.290082162458736\n",
      "2.7988677102216792\n"
     ]
    }
   ],
   "source": [
    "eta = 0.8\n",
    "w1 = w0 - eta * grad_w0\n",
    "b1 = b0 - eta * grad_b0\n",
    "\n",
    "print(w1)\n",
    "print(b1)"
   ]
  }
 ],
 "metadata": {
  "kernelspec": {
   "display_name": "Python 3 (ipykernel)",
   "language": "python",
   "name": "python3"
  },
  "language_info": {
   "codemirror_mode": {
    "name": "ipython",
    "version": 3
   },
   "file_extension": ".py",
   "mimetype": "text/x-python",
   "name": "python",
   "nbconvert_exporter": "python",
   "pygments_lexer": "ipython3",
   "version": "3.9.12"
  }
 },
 "nbformat": 4,
 "nbformat_minor": 5
}
