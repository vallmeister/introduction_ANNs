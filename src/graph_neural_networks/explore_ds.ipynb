{
 "cells": [
  {
   "cell_type": "markdown",
   "id": "b9f1c441-7b11-41b6-9688-8c49bfa31ea2",
   "metadata": {},
   "source": [
    "# Exploring data sets for experiments"
   ]
  },
  {
   "cell_type": "code",
   "execution_count": 1,
   "id": "62938842-67c0-49af-8ec7-2d8126ac351b",
   "metadata": {
    "tags": []
   },
   "outputs": [],
   "source": [
    "import torch\n",
    "from torch_geometric.datasets import EllipticBitcoinDataset"
   ]
  },
  {
   "cell_type": "code",
   "execution_count": 2,
   "id": "59eba2ca-b207-407c-ad8d-d428cf0b918c",
   "metadata": {
    "tags": []
   },
   "outputs": [],
   "source": [
    "dataset = EllipticBitcoinDataset(root='/tmp/BTC')"
   ]
  },
  {
   "cell_type": "code",
   "execution_count": 3,
   "id": "aa075721-77db-40c1-81d3-bd96fc67ebdd",
   "metadata": {
    "tags": []
   },
   "outputs": [
    {
     "name": "stdout",
     "output_type": "stream",
     "text": [
      "number of graphs: 1\n",
      "number of classes: 2\n",
      "number of node features: 165\n",
      "number of nodes: 203769\n",
      "number of edges: 234355\n"
     ]
    }
   ],
   "source": [
    "print('number of graphs:', len(dataset))\n",
    "print('number of classes:', dataset.num_classes)\n",
    "print('number of node features:', dataset.num_node_features)\n",
    "print('number of nodes:', dataset[0].num_nodes)\n",
    "print('number of edges:', dataset[0].num_edges)"
   ]
  },
  {
   "cell_type": "code",
   "execution_count": 6,
   "id": "34259ea4-9630-426a-93e6-420b20aff82c",
   "metadata": {
    "tags": []
   },
   "outputs": [],
   "source": [
    "import torch_geometric.datasets\n",
    "from torch_geometric.datasets import Reddit2"
   ]
  },
  {
   "cell_type": "code",
   "execution_count": 5,
   "id": "75b32661-4a67-497d-9b55-6cd5346dd113",
   "metadata": {
    "tags": []
   },
   "outputs": [
    {
     "ename": "AttributeError",
     "evalue": "module 'torch_geometric.datasets' has no attribute 'EllipticBitcoinTemporalDataset'",
     "output_type": "error",
     "traceback": [
      "\u001b[1;31m---------------------------------------------------------------------------\u001b[0m",
      "\u001b[1;31mAttributeError\u001b[0m                            Traceback (most recent call last)",
      "Cell \u001b[1;32mIn[5], line 1\u001b[0m\n\u001b[1;32m----> 1\u001b[0m tmp_dataset \u001b[38;5;241m=\u001b[39m \u001b[43mtorch_geometric\u001b[49m\u001b[38;5;241;43m.\u001b[39;49m\u001b[43mdatasets\u001b[49m\u001b[38;5;241;43m.\u001b[39;49m\u001b[43mEllipticBitcoinTemporalDataset\u001b[49m\n",
      "\u001b[1;31mAttributeError\u001b[0m: module 'torch_geometric.datasets' has no attribute 'EllipticBitcoinTemporalDataset'"
     ]
    }
   ],
   "source": [
    "#tmp_dataset = torch_geometric.datasets.EllipticBitcoinTemporalDataset"
   ]
  },
  {
   "cell_type": "code",
   "execution_count": 7,
   "id": "913fba61-52d2-4afd-98ff-e443fa67bfbd",
   "metadata": {
    "tags": []
   },
   "outputs": [
    {
     "name": "stderr",
     "output_type": "stream",
     "text": [
      "Downloading https://docs.google.com/uc?export=download&id=1sncK996BM5lpuDf75lDFqCiDZyErc1c2&confirm=t\n",
      "Downloading https://docs.google.com/uc?export=download&id=1ZsHaJ0ussP1W722krmEIp_8pwKAoi5b3&confirm=t\n",
      "Downloading https://docs.google.com/uc?export=download&id=1JF3Pjv9OboMNYs2aXRQGbJbc4t_nDd5u&confirm=t\n",
      "Downloading https://docs.google.com/uc?export=download&id=1nJIKd77lcAGU4j-kVNx_AIGEkveIKz3A&confirm=t\n",
      "Processing...\n",
      "Done!\n"
     ]
    }
   ],
   "source": [
    "ds = Reddit2(root='/tmp/Reddit2')"
   ]
  },
  {
   "cell_type": "code",
   "execution_count": 12,
   "id": "d961b65f-5ff2-4b38-8027-323f39d7335c",
   "metadata": {
    "tags": []
   },
   "outputs": [
    {
     "name": "stdout",
     "output_type": "stream",
     "text": [
      "1\n",
      "41\n",
      "602\n"
     ]
    }
   ],
   "source": [
    "print(len(ds))\n",
    "print(ds.num_classes)\n",
    "print(ds.num_node_features)"
   ]
  },
  {
   "cell_type": "code",
   "execution_count": 15,
   "id": "78391f72-d86a-46a0-9f74-49e90a99faff",
   "metadata": {
    "tags": []
   },
   "outputs": [
    {
     "name": "stdout",
     "output_type": "stream",
     "text": [
      "<class 'pandas.core.frame.DataFrame'>\n",
      "RangeIndex: 232965 entries, 0 to 232964\n",
      "Columns: 602 entries, 0 to 601\n",
      "dtypes: float32(602)\n",
      "memory usage: 535.0 MB\n"
     ]
    }
   ],
   "source": [
    "import pandas as pd\n",
    "df = pd.DataFrame(ds[0].x.numpy())\n",
    "df.info()"
   ]
  }
 ],
 "metadata": {
  "kernelspec": {
   "display_name": "Python 3 (ipykernel)",
   "language": "python",
   "name": "python3"
  },
  "language_info": {
   "codemirror_mode": {
    "name": "ipython",
    "version": 3
   },
   "file_extension": ".py",
   "mimetype": "text/x-python",
   "name": "python",
   "nbconvert_exporter": "python",
   "pygments_lexer": "ipython3",
   "version": "3.9.17"
  }
 },
 "nbformat": 4,
 "nbformat_minor": 5
}
