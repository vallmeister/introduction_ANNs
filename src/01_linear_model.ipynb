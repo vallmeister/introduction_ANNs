{
 "cells": [
  {
   "cell_type": "markdown",
   "id": "f869c0f0-f2ef-4d1f-b50b-0041074fa72a",
   "metadata": {},
   "source": [
    "# Linear model of ANNs\n",
    "We will use a simple linear model, which means the input is directly fed into the ouptput layer."
   ]
  },
  {
   "cell_type": "code",
   "execution_count": 23,
   "id": "850057f3-b5cd-4459-9c06-74766bd9c5e9",
   "metadata": {},
   "outputs": [],
   "source": [
    "import numpy as np\n",
    "import matplotlib.pyplot as plt\n",
    "import ipywidgets as widgets\n",
    "from ipywidgets import interact"
   ]
  },
  {
   "cell_type": "code",
   "execution_count": 13,
   "id": "bad2a99c-c304-4d41-9fdb-2ebffb8bc859",
   "metadata": {},
   "outputs": [],
   "source": [
    "def x(time):\n",
    "    if 5 <= time <= 15:\n",
    "        return 1\n",
    "    else:\n",
    "        return 0"
   ]
  },
  {
   "cell_type": "code",
   "execution_count": 19,
   "id": "154158b8-4901-4028-9f59-6d506a6f0111",
   "metadata": {},
   "outputs": [],
   "source": [
    "def lin_model(tau, weight):\n",
    "    delta_t = 0.1\n",
    "    time_steps = np.arange(0, 30.1, delta_t)\n",
    "    n = len(time_steps)\n",
    "    u_1 = np.zeros(n)\n",
    "    u_1_prime = np.zeros(n)\n",
    "    u_2 = np.zeros(n)\n",
    "    u_2_prime = np.zeros(n)\n",
    "    \n",
    "    for i in range(n):\n",
    "        u_1_prime[i] = (-u_1[i] + x(time_steps[i])) / tau\n",
    "        u_2_prime[i] = (-u_2[i] + weight * u_1[i]) / tau\n",
    "        if i < n - 1:\n",
    "            u_1[i + 1] = u_1[i] + delta_t * u_1_prime[i]\n",
    "            u_2[i + 1] = u_2[i] + delta_t * u_2_prime[i]\n",
    "    \n",
    "    return time_steps, u_1, u_2, u_1_prime, u_2_prime"
   ]
  },
  {
   "cell_type": "code",
   "execution_count": 26,
   "id": "8c18abad-1a76-4c2f-8ab4-b05e9af8454f",
   "metadata": {},
   "outputs": [
    {
     "data": {
      "application/vnd.jupyter.widget-view+json": {
       "model_id": "cc692713e0534d48945ffc9504a2101a",
       "version_major": 2,
       "version_minor": 0
      },
      "text/plain": [
       "interactive(children=(FloatSlider(value=1.0, continuous_update=False, description='$\\\\tau$', max=2.0, min=0.1)…"
      ]
     },
     "metadata": {},
     "output_type": "display_data"
    },
    {
     "data": {
      "text/plain": [
       "<function __main__.plot_model(tau, weight)>"
      ]
     },
     "execution_count": 26,
     "metadata": {},
     "output_type": "execute_result"
    }
   ],
   "source": [
    "def plot_model(tau, weight):\n",
    "    time, u1, u2, u1_prime, u2_prime = lin_model(tau, weight)\n",
    "    fig, (ax1, ax2) = plt.subplots(1 , 2, figsize = ( 12,5))\n",
    "    ax1.plot(time, u1, label = r'$u_1(t)$')\n",
    "    ax1.plot(time, u2, label = r'$u_2(t)$')\n",
    "    ax1.set_ylim([0 , 3 ])\n",
    "    ax1.set_title('Potential')\n",
    "    ax1.set_xlabel('Time $t$')\n",
    "    ax1.set_ylabel('Potential')\n",
    "    ax1.grid()\n",
    "    ax1.legend()\n",
    "    ax2.plot(time, u1_prime, label = r'$\\dot{u}_1(t)$')\n",
    "    ax2.plot(time, u2_prime, label = r'$\\dot{u}_2(t)$')\n",
    "    ax2.set_title('Derivative')\n",
    "    ax2.set_xlabel('Time $t$')\n",
    "    ax2.set_ylabel('Potential')\n",
    "    ax2.grid()\n",
    "    ax2.legend()\n",
    "    \n",
    "tau_slider = widgets.FloatSlider(min = 0.1, max=2, step = 0.1, value =1, continuous_update = False, description = r'$\\tau$')\n",
    "weight_slider = widgets.FloatSlider(min = 0.1, max =3, step = 0.1, value = 0.8, continuous_update = False, description = r'$c_ {12}$')\n",
    "interact(plot_model, tau = tau_slider, weight = weight_slider)"
   ]
  }
 ],
 "metadata": {
  "kernelspec": {
   "display_name": "Python 3 (ipykernel)",
   "language": "python",
   "name": "python3"
  },
  "language_info": {
   "codemirror_mode": {
    "name": "ipython",
    "version": 3
   },
   "file_extension": ".py",
   "mimetype": "text/x-python",
   "name": "python",
   "nbconvert_exporter": "python",
   "pygments_lexer": "ipython3",
   "version": "3.9.12"
  }
 },
 "nbformat": 4,
 "nbformat_minor": 5
}
